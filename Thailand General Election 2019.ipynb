{
 "cells": [
  {
   "cell_type": "code",
   "execution_count": 561,
   "metadata": {},
   "outputs": [],
   "source": [
    "# Import libraries\n",
    "import requests, ssl\n",
    "import pandas as pd\n",
    "import re\n",
    "import numpy as np\n",
    "ssl._create_default_https_context = ssl._create_unverified_context\n",
    "from numpy import nan"
   ]
  },
  {
   "cell_type": "code",
   "execution_count": null,
   "metadata": {},
   "outputs": [],
   "source": [
    "# Download data\n",
    "dls = \"https://www.ect.go.th/ect_th/download/article/article_20201002121316.xlsx\"\n",
    "resp = requests.get(dls, verify = False)\n",
    "\n",
    "output = open('election62.xlsx', 'wb')\n",
    "output.write(resp.content)\n",
    "output.close()"
   ]
  },
  {
   "cell_type": "code",
   "execution_count": 562,
   "metadata": {},
   "outputs": [],
   "source": [
    "# Create dataframes from excel sheets\n",
    "num_pol = pd.read_excel(\"election62.xlsx\", header =  3, sheet_name = 0) #จำนวนหน่วยเลือกตั้งในการเลือกตั้งสมาชิกสภาผู้แทนราษฎร\n",
    "advanced_out = pd.read_excel(\"election62.xlsx\", header =  3, sheet_name = 19) #การใช้สิทธิลงคะแนนเลือกตั้งสมาชิกสภาผู้แทนราษฎรก่อนวันเลือกตั้ง นอกเขตเลือกตั้ง\n",
    "turnout = pd.read_excel(\"election62.xlsx\", header =  3, sheet_name = 26) #การใช้สิทธิเลือกตั้งสมาชิกสภาผู้แทนราษฎร แบบแบ่งเขตเลือกตั้ง\n",
    "results = pd.read_excel(\"election62.xlsx\", header =  3, sheet_name = 30) #ผลคะแนนการเลือกตั้งสมาชิกสภาผู้แทนราษฎร แบบแบ่งเขตเลือกตั้ง เมื่อวันที่ 24 มีนาคม 2562\n",
    "chiangmai_8 = pd.read_excel(\"election62.xlsx\", header =  8, sheet_name = 31) #ผลคะแนนการเลือกตั้งสมาชิกสภาผู้แทนราษฎร กรณีเลือกตั้งใหม่ จังหวัดเชียงใหม่ เขต 8\n",
    "winners = pd.read_excel(\"election62.xlsx\", header =  3, sheet_name = 37) #รายชื่อผู้ได้รับเลือกตั้งสมาชิกสภาผู้แทนราษฎร แบบแบ่งเขตเลือกตั้ง (จำนวน 350 คน)"
   ]
  },
  {
   "cell_type": "code",
   "execution_count": 563,
   "metadata": {},
   "outputs": [],
   "source": [
    "# Create a function to clean data\n",
    "def fill_prov(df):\n",
    "    df['จังหวัด'] = df['จังหวัด'].fillna(method='ffill')\n",
    "    df['เขต'] = df['เขต'].fillna(method='ffill')\n",
    "    df = df[~df['จังหวัด'].str.contains('รวม', na=False)].reset_index(drop=True)\n",
    "    return df"
   ]
  },
  {
   "cell_type": "code",
   "execution_count": 564,
   "metadata": {},
   "outputs": [],
   "source": [
    "# Apply the above function to the spreadsheets\n",
    "df_list = [num_pol, advanced_out, turnout, results, winners]\n",
    "df_list = [(lambda x: fill_prov(x))(df) for df in df_list]"
   ]
  },
  {
   "cell_type": "code",
   "execution_count": 565,
   "metadata": {},
   "outputs": [],
   "source": [
    "#จำนวนหน่วยเลือกตั้งในการเลือกตั้งสมาชิกสภาผู้แทนราษฎร\n",
    "num_pol = df_list[0][['จังหวัด', 'เขต', 'Unnamed: 4']]\n",
    "num_pol = num_pol.rename(columns={\"Unnamed: 4\": \"จำนวนหน่วยเลือกตั้ง\"})\n",
    "\n",
    "#การใช้สิทธิลงคะแนนเลือกตั้งสมาชิกสภาผู้แทนราษฎรก่อนวันเลือกตั้ง\n",
    "advanced_out = df_list[1]\n",
    "\n",
    "#การใช้สิทธิเลือกตั้งสมาชิกสภาผู้แทนราษฎร\n",
    "turnout = df_list[2]\n",
    "\n",
    "#ผลคะแนนการเลือกตั้งสมาชิกสภาผู้แทนราษฎร\n",
    "results = df_list[3].iloc[:-2]\n",
    "\n",
    "#รายชื่อผู้ได้รับเลือกตั้งสมาชิกสภาผู้แทนราษฎร แบบแบ่งเขตเลือกตั้ง (จำนวน 350 คน)\n",
    "winners = df_list[4]\n",
    "\n",
    "#ผลเลือกตั้งซ่อม เชียงใหม่ เขต 8\n",
    "chiangmai_8 = pd.read_excel(\"election62.xlsx\", sheet_name = 31, header = 8)\n",
    "chiangmai_8['จังหวัด'], chiangmai_8['เขต'] = 'เชียงใหม่', int(8)\n",
    "chiangmai_8 = chiangmai_8.dropna(axis=1, how='all')\n",
    "\n",
    "#การใช้สิทธิเลือกตั้งซ่อม เชียงใหม่ เขต 8\n",
    "chiangmai_8_turnout = pd.read_excel(\"election62.xlsx\", sheet_name = 31, header = 2)[0:4].iloc[:,2:5]\n",
    "total_voter = chiangmai_8_turnout.iloc[0, 1]\n",
    "voter_turnout = chiangmai_8_turnout.iloc[1, 1]\n",
    "voter_turnout_pct = re.findall('(\\d+[,.]?\\d*)', chiangmai_8_turnout.iloc[1, 2])[0]\n",
    "bad_ballot = chiangmai_8_turnout.iloc[2, 1]\n",
    "bad_ballot_pct = re.findall('(\\d+[,.]?\\d*)', chiangmai_8_turnout.iloc[2, 2])[0]\n",
    "vote_no = chiangmai_8_turnout.iloc[3, 1]\n",
    "vote_no_pct = re.findall('(\\d+[,.]?\\d*)', chiangmai_8_turnout.iloc[3, 2])[0]\n",
    "\n",
    "data = [{'จังหวัด': 'เชียงใหม่',\n",
    "         'เขต': '8', \n",
    "         'ผู้มีสิทธิเลือกตั้ง': total_voter,\n",
    "         'ผู้ใช้สิทธิเลือกตั้ง': voter_turnout, \n",
    "         'ร้อยละ': voter_turnout_pct,'บัตรเสีย': bad_ballot, \n",
    "         'ร้อยละ.1': bad_ballot_pct,\n",
    "         'บัตรไม่เลือกผู้สมัครผู้ใด' : vote_no,\n",
    "         'ร้อยละ.2': vote_no_pct}]\n",
    "chiangmai_8_turnout = pd.DataFrame(data)\n",
    "chiangmai_8_turnout['เขต'] = chiangmai_8_turnout['เขต'].astype('int')\n",
    "chiangmai_8_turnout['index'] = 96\n",
    "chiangmai_8_turnout = chiangmai_8_turnout.set_index('index')"
   ]
  },
  {
   "cell_type": "code",
   "execution_count": 566,
   "metadata": {},
   "outputs": [],
   "source": [
    "# Update election turnout with Chiang Mai 8\n",
    "turnout_cm8_updated = chiangmai_8_turnout.combine_first(turnout)\n",
    "constituency = pd.merge(turnout_cm8_updated, advanced_out, on = ['จังหวัด', 'เขต']).merge(num_pol, on = ['จังหวัด', 'เขต']).merge(winners, on = ['จังหวัด', 'เขต'])\n",
    "\n",
    "constituency = constituency.rename(columns={\n",
    "    \"ร้อยละ_x\": \"ผู้ใช้สิทธิเลือกตั้ง (%)\",\n",
    "    \"ร้อยละ.1\": \"บัตรเสีย (%)\",\n",
    "    \"ร้อยละ.2\": 'บัตรไม่เลือกผู้สมัครผู้ใด (%)',\n",
    "    \"ผู้ใช้สิทธิลงคะแนน\":\"ผู้ใช้สิทธิลงคะแนนล่วงหน้านอกเขต\",\n",
    "    \"ร้อยละ_y\": 'ผู้ใช้สิทธิลงคะแนนล่วงหน้านอกเขต (%)'\n",
    "})\n",
    "\n",
    "constituency['ผู้ใช้สิทธิลงคะแนนล่วงหน้านอกเขต (%)'] = (constituency['ผู้ใช้สิทธิลงคะแนนล่วงหน้านอกเขต']/constituency['ผู้ใช้สิทธิเลือกตั้ง'])*100\n",
    "\n",
    "convert_dict = {'เขต': int,\n",
    "                'ผู้มีสิทธิเลือกตั้ง': int,\n",
    "                'ผู้ใช้สิทธิเลือกตั้ง': int,\n",
    "                'บัตรเสีย': int,\n",
    "                'บัตรไม่เลือกผู้สมัครผู้ใด': int,\n",
    "               }\n",
    "constituency = constituency.astype(convert_dict)"
   ]
  },
  {
   "cell_type": "code",
   "execution_count": 531,
   "metadata": {},
   "outputs": [],
   "source": [
    "# Update election results with Chiang Mai 8\n",
    "convert_dict = {'เขต': int,\n",
    "                'หมายเลข': int,\n",
    "                'ผลคะแนน': int,\n",
    "               }\n",
    "results = results.astype(convert_dict)\n",
    "\n",
    "subset_index = results.loc[(results['จังหวัด'] == 'เชียงใหม่') & (results['เขต'] == 8)].index.values\n",
    "chiangmai_8 = chiangmai_8.set_index(subset_index[1:])\n",
    "results.update(chiangmai_8)\n",
    "results_updated = results.drop(results.index[subset_index[0]])"
   ]
  },
  {
   "cell_type": "code",
   "execution_count": 568,
   "metadata": {},
   "outputs": [],
   "source": [
    "# Generate dataframes of top 5 candidates\n",
    "contenders = {}\n",
    "df = {}\n",
    "for i in range(5):\n",
    "    df[i] = results_updated.groupby(\n",
    "        ['จังหวัด', 'เขต'], as_index=False).nth(i)[['จังหวัด', 'เขต', 'ชื่อผู้สมัคร', 'พรรค', 'ผลคะแนน']].reset_index(drop= True)\n",
    "    df[i].rename(columns = {'ชื่อผู้สมัคร':'ชื่อผู้สมัคร ' + str(i+1), 'พรรค':'พรรค ' + str(i+1), 'ผลคะแนน': 'ผลคะแนน ' + str(i+1)}, inplace=True)"
   ]
  },
  {
   "cell_type": "code",
   "execution_count": 540,
   "metadata": {},
   "outputs": [],
   "source": [
    "# Concatenate into a single dataframe\n",
    "contenders = pd.concat(df.values(), axis = 1)\n",
    "contenders = contenders.loc[:,~contenders.columns.duplicated()]"
   ]
  },
  {
   "cell_type": "code",
   "execution_count": 547,
   "metadata": {},
   "outputs": [],
   "source": [
    "# Update with contenders\n",
    "out_df = constituency.merge(contenders, on =['จังหวัด', 'เขต'])"
   ]
  },
  {
   "cell_type": "code",
   "execution_count": 548,
   "metadata": {},
   "outputs": [],
   "source": [
    "# Get margin of victory\n",
    "out_df['margin of victory (%)'] = ((out_df['ผลคะแนน 1'] - out_df['ผลคะแนน 2'])/ out_df['ผู้ใช้สิทธิเลือกตั้ง'])*100"
   ]
  },
  {
   "cell_type": "code",
   "execution_count": 550,
   "metadata": {},
   "outputs": [],
   "source": [
    "# Convert select columns to integer\n",
    "convert_dict = {'ผลคะแนน 1': int,\n",
    "                'ผลคะแนน 2': int,\n",
    "                'ผลคะแนน 3': int,\n",
    "                'ผลคะแนน 4': int,\n",
    "                'ผลคะแนน 5': int,\n",
    "               }\n",
    "out_df = out_df.astype(convert_dict)\n",
    "\n",
    "convert_dict = {'เขต': int,\n",
    "                'หมายเลข': int,\n",
    "                'ผลคะแนน': int,\n",
    "               }\n",
    "results_updated = results_updated.astype(convert_dict).reset_index(drop=True)"
   ]
  },
  {
   "cell_type": "code",
   "execution_count": 570,
   "metadata": {},
   "outputs": [],
   "source": [
    "# Export to .csv \n",
    "out_df.to_csv(\"constituency_62.csv\")\n",
    "results_updated.to_csv(\"results_62.csv\")"
   ]
  }
 ],
 "metadata": {
  "kernelspec": {
   "display_name": "Python 3",
   "language": "python",
   "name": "python3"
  },
  "language_info": {
   "codemirror_mode": {
    "name": "ipython",
    "version": 3
   },
   "file_extension": ".py",
   "mimetype": "text/x-python",
   "name": "python",
   "nbconvert_exporter": "python",
   "pygments_lexer": "ipython3",
   "version": "3.7.4"
  }
 },
 "nbformat": 4,
 "nbformat_minor": 2
}
